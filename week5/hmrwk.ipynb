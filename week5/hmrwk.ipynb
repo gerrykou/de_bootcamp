{
 "cells": [
  {
   "cell_type": "code",
   "execution_count": 2,
   "id": "3c3f71c4",
   "metadata": {},
   "outputs": [],
   "source": [
    "import pyspark\n",
    "from pyspark.sql import SparkSession"
   ]
  },
  {
   "cell_type": "code",
   "execution_count": 3,
   "id": "e8e4dd74",
   "metadata": {},
   "outputs": [
    {
     "name": "stderr",
     "output_type": "stream",
     "text": [
      "WARNING: An illegal reflective access operation has occurred\n",
      "WARNING: Illegal reflective access by org.apache.spark.unsafe.Platform (file:/home/gerry/bin/spark-3.0.3-bin-hadoop3.2/jars/spark-unsafe_2.12-3.0.3.jar) to constructor java.nio.DirectByteBuffer(long,int)\n",
      "WARNING: Please consider reporting this to the maintainers of org.apache.spark.unsafe.Platform\n",
      "WARNING: Use --illegal-access=warn to enable warnings of further illegal reflective access operations\n",
      "WARNING: All illegal access operations will be denied in a future release\n",
      "22/02/27 11:44:43 WARN NativeCodeLoader: Unable to load native-hadoop library for your platform... using builtin-java classes where applicable\n",
      "Using Spark's default log4j profile: org/apache/spark/log4j-defaults.properties\n",
      "Setting default log level to \"WARN\".\n",
      "To adjust logging level use sc.setLogLevel(newLevel). For SparkR, use setLogLevel(newLevel).\n"
     ]
    }
   ],
   "source": [
    "spark = SparkSession.builder \\\n",
    "    .master(\"local[*]\") \\\n",
    "    .appName('test') \\\n",
    "    .getOrCreate()"
   ]
  },
  {
   "cell_type": "code",
   "execution_count": 5,
   "id": "2a728b8f",
   "metadata": {},
   "outputs": [],
   "source": [
    "FILE = '../../de_bootcamp/week5/data/raw/fhvhv/2021/02/fhvhv_tripdata_2021-02.csv'\n",
    "TARGET_DIR= '../../de_bootcamp/week5/data/parquet/'"
   ]
  },
  {
   "cell_type": "code",
   "execution_count": 6,
   "id": "eb30b55f",
   "metadata": {},
   "outputs": [],
   "source": [
    "from pyspark.sql import types"
   ]
  },
  {
   "cell_type": "code",
   "execution_count": 45,
   "id": "d5e89cbd",
   "metadata": {},
   "outputs": [],
   "source": [
    "schema = types.StructType([\n",
    "    types.StructField('hvfhs_license_num', types.StringType(), True),\n",
    "    types.StructField('dispatching_base_num', types.StringType(), True),\n",
    "    types.StructField('pickup_datetime', types.TimestampType(), True),\n",
    "    types.StructField('dropoff_datetime', types.TimestampType(), True),\n",
    "    types.StructField('PULocationID', types.IntegerType(), True),\n",
    "    types.StructField('DOLocationID', types.IntegerType(), True),\n",
    "    types.StructField('SR_Flag', types.StringType(), True)\n",
    "])"
   ]
  },
  {
   "cell_type": "code",
   "execution_count": 48,
   "id": "17372198",
   "metadata": {},
   "outputs": [],
   "source": [
    "df = spark.read \\\n",
    "    .option(\"header\", \"true\") \\\n",
    "    .schema(schema) \\\n",
    "    .csv(FILE)"
   ]
  },
  {
   "cell_type": "code",
   "execution_count": 49,
   "id": "d49c9273",
   "metadata": {},
   "outputs": [],
   "source": [
    "df = df.repartition(24)"
   ]
  },
  {
   "cell_type": "code",
   "execution_count": 50,
   "id": "dc195d88",
   "metadata": {},
   "outputs": [
    {
     "name": "stderr",
     "output_type": "stream",
     "text": [
      "                                                                                \r"
     ]
    }
   ],
   "source": [
    "df.write.parquet(f'{TARGET_DIR}test', mode='overwrite')"
   ]
  },
  {
   "cell_type": "code",
   "execution_count": 7,
   "id": "c9f4d857",
   "metadata": {},
   "outputs": [
    {
     "name": "stderr",
     "output_type": "stream",
     "text": [
      "                                                                                \r"
     ]
    }
   ],
   "source": [
    "df = spark.read.parquet(f'{TARGET_DIR}test')"
   ]
  },
  {
   "cell_type": "code",
   "execution_count": 8,
   "id": "483b6aea",
   "metadata": {},
   "outputs": [
    {
     "name": "stderr",
     "output_type": "stream",
     "text": [
      "\r",
      "[Stage 1:>                                                          (0 + 1) / 1]\r"
     ]
    },
    {
     "name": "stdout",
     "output_type": "stream",
     "text": [
      "+-----------------+--------------------+-------------------+-------------------+------------+------------+-------+\n",
      "|hvfhs_license_num|dispatching_base_num|    pickup_datetime|   dropoff_datetime|PULocationID|DOLocationID|SR_Flag|\n",
      "+-----------------+--------------------+-------------------+-------------------+------------+------------+-------+\n",
      "|           HV0003|              B02887|2021-02-06 01:18:35|2021-02-06 01:40:34|         163|         235|   null|\n",
      "|           HV0005|              B02510|2021-02-05 07:13:06|2021-02-05 07:31:56|         225|         181|   null|\n",
      "|           HV0003|              B02869|2021-02-04 16:56:52|2021-02-04 17:21:36|         260|          95|   null|\n",
      "|           HV0003|              B02871|2021-02-03 18:34:17|2021-02-03 18:57:12|         235|          60|   null|\n",
      "|           HV0003|              B02869|2021-02-04 07:25:09|2021-02-04 07:30:34|          55|          55|   null|\n",
      "|           HV0003|              B02836|2021-02-04 23:15:27|2021-02-04 23:34:29|          74|          81|   null|\n",
      "|           HV0003|              B02882|2021-02-05 07:45:49|2021-02-05 08:05:03|         239|         231|   null|\n",
      "|           HV0003|              B02887|2021-02-03 17:33:59|2021-02-03 17:47:14|          95|         196|   null|\n",
      "|           HV0003|              B02877|2021-02-03 09:33:06|2021-02-03 09:45:59|         241|         265|   null|\n",
      "|           HV0003|              B02872|2021-02-02 12:58:46|2021-02-02 13:06:20|          90|         137|   null|\n",
      "|           HV0003|              B02764|2021-02-05 22:25:20|2021-02-05 22:28:27|           7|           7|   null|\n",
      "|           HV0003|              B02882|2021-02-04 19:57:44|2021-02-04 20:05:24|         231|         246|   null|\n",
      "|           HV0003|              B02764|2021-02-02 08:43:57|2021-02-02 08:53:46|         108|          29|   null|\n",
      "|           HV0003|              B02866|2021-02-04 05:51:50|2021-02-04 06:21:25|          11|         112|   null|\n",
      "|           HV0003|              B02882|2021-02-05 16:13:02|2021-02-05 16:27:48|         229|         234|   null|\n",
      "|           HV0005|              B02510|2021-02-04 17:15:28|2021-02-04 17:24:46|          10|         218|   null|\n",
      "|           HV0003|              B02617|2021-02-04 09:59:58|2021-02-04 10:29:13|          49|         232|   null|\n",
      "|           HV0005|              B02510|2021-02-05 23:34:27|2021-02-05 23:51:05|         125|          17|   null|\n",
      "|           HV0003|              B02875|2021-02-05 20:52:58|2021-02-05 21:19:59|          47|          68|   null|\n",
      "|           HV0003|              B02875|2021-02-04 18:11:00|2021-02-04 18:37:24|          41|         223|   null|\n",
      "+-----------------+--------------------+-------------------+-------------------+------------+------------+-------+\n",
      "only showing top 20 rows\n",
      "\n"
     ]
    },
    {
     "name": "stderr",
     "output_type": "stream",
     "text": [
      "\r",
      "                                                                                \r"
     ]
    }
   ],
   "source": [
    "df.show()"
   ]
  },
  {
   "cell_type": "code",
   "execution_count": 9,
   "id": "9b42ae95",
   "metadata": {},
   "outputs": [
    {
     "name": "stderr",
     "output_type": "stream",
     "text": [
      "[Stage 3:========================================>              (146 + 4) / 200]\r"
     ]
    },
    {
     "name": "stdout",
     "output_type": "stream",
     "text": [
      "+--------------------+-------+\n",
      "|dispatching_base_num|  count|\n",
      "+--------------------+-------+\n",
      "|              B02510|3233664|\n",
      "|              B02764| 965568|\n",
      "|              B02872| 882689|\n",
      "|              B02875| 685390|\n",
      "|              B02765| 559768|\n",
      "|              B02869| 429720|\n",
      "|              B02887| 322331|\n",
      "|              B02871| 312364|\n",
      "|              B02864| 311603|\n",
      "|              B02866| 311089|\n",
      "|              B02878| 305185|\n",
      "|              B02682| 303255|\n",
      "|              B02617| 274510|\n",
      "|              B02883| 251617|\n",
      "|              B02884| 244963|\n",
      "|              B02882| 232173|\n",
      "|              B02876| 215693|\n",
      "|              B02879| 210137|\n",
      "|              B02867| 200530|\n",
      "|              B02877| 198938|\n",
      "+--------------------+-------+\n",
      "only showing top 20 rows\n",
      "\n"
     ]
    },
    {
     "name": "stderr",
     "output_type": "stream",
     "text": [
      "\r",
      "[Stage 3:================================================>      (176 + 5) / 200]\r",
      "\r",
      "                                                                                \r"
     ]
    }
   ],
   "source": [
    "df.groupBy('dispatching_base_num').count().orderBy('count', ascending = False).show()  "
   ]
  },
  {
   "cell_type": "code",
   "execution_count": 10,
   "id": "f3444170",
   "metadata": {},
   "outputs": [],
   "source": [
    "z_file = '../../de_bootcamp/week5/data/taxi+_zone_lookup.csv'\n",
    "target_zones =  '../../de_bootcamp/week5/data/parquet/zones'"
   ]
  },
  {
   "cell_type": "code",
   "execution_count": 25,
   "id": "06235799",
   "metadata": {},
   "outputs": [],
   "source": [
    "zone_schema = types.StructType([\n",
    "    types.StructField('LocationID', types.IntegerType(), True),\n",
    "    types.StructField('Borough', types.StringType(), True),\n",
    "    types.StructField('Zone', types.StringType(), True),\n",
    "    types.StructField('service_zone', types.StringType(), True)\n",
    "])"
   ]
  },
  {
   "cell_type": "code",
   "execution_count": 28,
   "id": "c123aba9",
   "metadata": {},
   "outputs": [],
   "source": [
    "df_zones = spark.read.option(\"header\", \"true\").schema(zone_schema).csv(z_file)"
   ]
  },
  {
   "cell_type": "code",
   "execution_count": 29,
   "id": "82dcbc86",
   "metadata": {},
   "outputs": [
    {
     "name": "stdout",
     "output_type": "stream",
     "text": [
      "+----------+-------------+--------------------+------------+\n",
      "|LocationID|      Borough|                Zone|service_zone|\n",
      "+----------+-------------+--------------------+------------+\n",
      "|         1|          EWR|      Newark Airport|         EWR|\n",
      "|         2|       Queens|         Jamaica Bay|   Boro Zone|\n",
      "|         3|        Bronx|Allerton/Pelham G...|   Boro Zone|\n",
      "|         4|    Manhattan|       Alphabet City| Yellow Zone|\n",
      "|         5|Staten Island|       Arden Heights|   Boro Zone|\n",
      "|         6|Staten Island|Arrochar/Fort Wad...|   Boro Zone|\n",
      "|         7|       Queens|             Astoria|   Boro Zone|\n",
      "|         8|       Queens|        Astoria Park|   Boro Zone|\n",
      "|         9|       Queens|          Auburndale|   Boro Zone|\n",
      "|        10|       Queens|        Baisley Park|   Boro Zone|\n",
      "|        11|     Brooklyn|          Bath Beach|   Boro Zone|\n",
      "|        12|    Manhattan|        Battery Park| Yellow Zone|\n",
      "|        13|    Manhattan|   Battery Park City| Yellow Zone|\n",
      "|        14|     Brooklyn|           Bay Ridge|   Boro Zone|\n",
      "|        15|       Queens|Bay Terrace/Fort ...|   Boro Zone|\n",
      "|        16|       Queens|             Bayside|   Boro Zone|\n",
      "|        17|     Brooklyn|             Bedford|   Boro Zone|\n",
      "|        18|        Bronx|        Bedford Park|   Boro Zone|\n",
      "|        19|       Queens|           Bellerose|   Boro Zone|\n",
      "|        20|        Bronx|             Belmont|   Boro Zone|\n",
      "+----------+-------------+--------------------+------------+\n",
      "only showing top 20 rows\n",
      "\n"
     ]
    }
   ],
   "source": [
    "df_zones.show()"
   ]
  },
  {
   "cell_type": "code",
   "execution_count": 30,
   "id": "52621a48",
   "metadata": {},
   "outputs": [
    {
     "name": "stdout",
     "output_type": "stream",
     "text": [
      "root\n",
      " |-- LocationID: integer (nullable = true)\n",
      " |-- Borough: string (nullable = true)\n",
      " |-- Zone: string (nullable = true)\n",
      " |-- service_zone: string (nullable = true)\n",
      "\n"
     ]
    }
   ],
   "source": [
    "df_zones.printSchema()"
   ]
  },
  {
   "cell_type": "code",
   "execution_count": 31,
   "id": "e8ff3b4c",
   "metadata": {},
   "outputs": [],
   "source": [
    "df_zones= df_zones.repartition(24)"
   ]
  },
  {
   "cell_type": "code",
   "execution_count": 11,
   "id": "49339993",
   "metadata": {
    "scrolled": false
   },
   "outputs": [
    {
     "ename": "NameError",
     "evalue": "name 'df_zones' is not defined",
     "output_type": "error",
     "traceback": [
      "\u001b[0;31m---------------------------------------------------------------------------\u001b[0m",
      "\u001b[0;31mNameError\u001b[0m                                 Traceback (most recent call last)",
      "\u001b[0;32m/tmp/ipykernel_1951/3210179319.py\u001b[0m in \u001b[0;36m<module>\u001b[0;34m\u001b[0m\n\u001b[0;32m----> 1\u001b[0;31m \u001b[0mdf_zones\u001b[0m \u001b[0;34m=\u001b[0m \u001b[0mdf_zones\u001b[0m\u001b[0;34m.\u001b[0m\u001b[0mwrite\u001b[0m\u001b[0;34m.\u001b[0m\u001b[0mparquet\u001b[0m\u001b[0;34m(\u001b[0m\u001b[0mtarget_zones\u001b[0m\u001b[0;34m)\u001b[0m\u001b[0;34m\u001b[0m\u001b[0;34m\u001b[0m\u001b[0m\n\u001b[0m",
      "\u001b[0;31mNameError\u001b[0m: name 'df_zones' is not defined"
     ]
    }
   ],
   "source": [
    "df_zones = df_zones.write.parquet(target_zones)"
   ]
  },
  {
   "cell_type": "code",
   "execution_count": 12,
   "id": "4d37a6a8",
   "metadata": {},
   "outputs": [],
   "source": [
    "df_z = spark.read.parquet(target_zones)"
   ]
  },
  {
   "cell_type": "code",
   "execution_count": 13,
   "id": "4abadeb5",
   "metadata": {},
   "outputs": [
    {
     "name": "stdout",
     "output_type": "stream",
     "text": [
      "+----------+-------------+--------------------+------------+\n",
      "|LocationID|      Borough|                Zone|service_zone|\n",
      "+----------+-------------+--------------------+------------+\n",
      "|       127|    Manhattan|              Inwood|   Boro Zone|\n",
      "|       206|Staten Island|Saint George/New ...|   Boro Zone|\n",
      "|        62|     Brooklyn| Crown Heights South|   Boro Zone|\n",
      "|       186|    Manhattan|Penn Station/Madi...| Yellow Zone|\n",
      "|       244|    Manhattan|Washington Height...|   Boro Zone|\n",
      "|       110|Staten Island|    Great Kills Park|   Boro Zone|\n",
      "|       122|       Queens|              Hollis|   Boro Zone|\n",
      "|         6|Staten Island|Arrochar/Fort Wad...|   Boro Zone|\n",
      "|        16|       Queens|             Bayside|   Boro Zone|\n",
      "|       238|    Manhattan|Upper West Side N...| Yellow Zone|\n",
      "|        77|     Brooklyn|East New York/Pen...|   Boro Zone|\n",
      "|       131|       Queens|     Jamaica Estates|   Boro Zone|\n",
      "|         8|       Queens|        Astoria Park|   Boro Zone|\n",
      "|       190|     Brooklyn|       Prospect Park|   Boro Zone|\n",
      "|        21|     Brooklyn|    Bensonhurst East|   Boro Zone|\n",
      "|       207|       Queens|Saint Michaels Ce...|   Boro Zone|\n",
      "|       141|    Manhattan|     Lenox Hill West| Yellow Zone|\n",
      "|         3|        Bronx|Allerton/Pelham G...|   Boro Zone|\n",
      "|       129|       Queens|     Jackson Heights|   Boro Zone|\n",
      "|       157|       Queens|             Maspeth|   Boro Zone|\n",
      "+----------+-------------+--------------------+------------+\n",
      "only showing top 20 rows\n",
      "\n"
     ]
    }
   ],
   "source": [
    "df_z.show()"
   ]
  },
  {
   "cell_type": "code",
   "execution_count": 14,
   "id": "7a21028f",
   "metadata": {},
   "outputs": [
    {
     "name": "stdout",
     "output_type": "stream",
     "text": [
      "root\n",
      " |-- LocationID: integer (nullable = true)\n",
      " |-- Borough: string (nullable = true)\n",
      " |-- Zone: string (nullable = true)\n",
      " |-- service_zone: string (nullable = true)\n",
      "\n"
     ]
    }
   ],
   "source": [
    "df_z.printSchema()"
   ]
  },
  {
   "cell_type": "code",
   "execution_count": 15,
   "id": "d0c0edfa",
   "metadata": {},
   "outputs": [],
   "source": [
    "from pyspark.sql.functions import concat,col, concat_ws"
   ]
  },
  {
   "cell_type": "code",
   "execution_count": 63,
   "id": "383d399c",
   "metadata": {},
   "outputs": [],
   "source": [
    "df2=df.select(concat_ws('/',df.PULocationID,df.DOLocationID).alias(\"pair_loc\"))"
   ]
  },
  {
   "cell_type": "code",
   "execution_count": 64,
   "id": "b01390d7",
   "metadata": {},
   "outputs": [
    {
     "name": "stdout",
     "output_type": "stream",
     "text": [
      "+--------+\n",
      "|pair_loc|\n",
      "+--------+\n",
      "| 163/235|\n",
      "| 225/181|\n",
      "|  260/95|\n",
      "|  235/60|\n",
      "|   55/55|\n",
      "|   74/81|\n",
      "| 239/231|\n",
      "|  95/196|\n",
      "| 241/265|\n",
      "|  90/137|\n",
      "|     7/7|\n",
      "| 231/246|\n",
      "|  108/29|\n",
      "|  11/112|\n",
      "| 229/234|\n",
      "|  10/218|\n",
      "|  49/232|\n",
      "|  125/17|\n",
      "|   47/68|\n",
      "|  41/223|\n",
      "+--------+\n",
      "only showing top 20 rows\n",
      "\n"
     ]
    }
   ],
   "source": [
    "df2.show()"
   ]
  },
  {
   "cell_type": "code",
   "execution_count": 67,
   "id": "542f87d5",
   "metadata": {},
   "outputs": [
    {
     "name": "stderr",
     "output_type": "stream",
     "text": [
      "\r",
      "[Stage 39:>                                                         (0 + 4) / 4]\r"
     ]
    },
    {
     "name": "stdout",
     "output_type": "stream",
     "text": [
      "+-----------------+--------------------+-------------------+-------------------+------------+------------+-------+\n",
      "|hvfhs_license_num|dispatching_base_num|    pickup_datetime|   dropoff_datetime|PULocationID|DOLocationID|SR_Flag|\n",
      "+-----------------+--------------------+-------------------+-------------------+------------+------------+-------+\n",
      "|           HV0003|              B02875|2021-02-14 06:46:37|2021-02-14 06:49:47|           1|           1|   null|\n",
      "|           HV0004|              B02800|2021-02-09 19:37:11|2021-02-09 20:10:00|           1|           4|   null|\n",
      "|           HV0004|              B02800|2021-02-27 17:45:56|2021-02-27 18:31:31|           1|           4|   null|\n",
      "|           HV0004|              B02800|2021-02-20 15:23:25|2021-02-20 16:00:14|           1|           4|   null|\n",
      "|           HV0004|              B02800|2021-02-05 08:41:49|2021-02-05 09:17:19|           1|          14|   null|\n",
      "|           HV0004|              B02800|2021-02-28 21:20:25|2021-02-28 21:45:57|           1|          14|   null|\n",
      "|           HV0004|              B02800|2021-02-07 17:33:02|2021-02-07 18:04:11|           1|          24|   null|\n",
      "|           HV0004|              B02800|2021-02-22 16:38:52|2021-02-22 17:20:20|           1|          25|   null|\n",
      "|           HV0004|              B02800|2021-02-15 11:42:08|2021-02-15 12:18:43|           1|          25|   null|\n",
      "|           HV0004|              B02800|2021-02-24 16:14:21|2021-02-24 17:07:26|           1|          25|   null|\n",
      "|           HV0004|              B02800|2021-02-04 14:09:18|2021-02-04 14:38:53|           1|          25|   null|\n",
      "|           HV0004|              B02800|2021-02-28 19:23:00|2021-02-28 20:03:26|           1|          33|   null|\n",
      "|           HV0004|              B02800|2021-02-02 20:59:03|2021-02-02 21:38:49|           1|          36|   null|\n",
      "|           HV0004|              B02800|2021-02-04 22:38:11|2021-02-04 23:29:03|           1|          36|   null|\n",
      "|           HV0004|              B02800|2021-02-17 14:45:24|2021-02-17 15:45:01|           1|          41|   null|\n",
      "|           HV0004|              B02800|2021-02-20 00:39:23|2021-02-20 01:22:08|           1|          41|   null|\n",
      "|           HV0004|              B02800|2021-02-21 12:43:54|2021-02-21 13:17:39|           1|          42|   null|\n",
      "|           HV0004|              B02800|2021-02-25 07:55:55|2021-02-25 08:43:36|           1|          42|   null|\n",
      "|           HV0004|              B02800|2021-02-19 17:18:02|2021-02-19 17:59:10|           1|          42|   null|\n",
      "|           HV0004|              B02800|2021-02-14 15:11:43|2021-02-14 15:39:38|           1|          45|   null|\n",
      "+-----------------+--------------------+-------------------+-------------------+------------+------------+-------+\n",
      "only showing top 20 rows\n",
      "\n"
     ]
    },
    {
     "name": "stderr",
     "output_type": "stream",
     "text": [
      "\r",
      "[Stage 39:==============>                                           (1 + 3) / 4]\r",
      "\r",
      "                                                                                \r"
     ]
    }
   ],
   "source": [
    "df.sort('PULocationID', 'DOLocationID').show()"
   ]
  },
  {
   "cell_type": "code",
   "execution_count": 55,
   "id": "20e62787",
   "metadata": {},
   "outputs": [
    {
     "name": "stderr",
     "output_type": "stream",
     "text": [
      "\r",
      "[Stage 44:>                                                         (0 + 4) / 4]\r"
     ]
    },
    {
     "name": "stdout",
     "output_type": "stream",
     "text": [
      "+------------+------------+-----+\n",
      "|PULocationID|DOLocationID|count|\n",
      "+------------+------------+-----+\n",
      "|          76|          76|45041|\n",
      "|          26|          26|37329|\n",
      "|          39|          39|28026|\n",
      "|          61|          61|25976|\n",
      "|          14|          14|17934|\n",
      "|         129|         129|14688|\n",
      "|           7|           7|14688|\n",
      "|          42|          42|14481|\n",
      "|          37|          37|14424|\n",
      "|          89|          89|13976|\n",
      "|         216|         216|13716|\n",
      "|          35|          35|12829|\n",
      "|         132|         265|12542|\n",
      "|         188|          61|11814|\n",
      "|          95|          95|11548|\n",
      "|          36|          37|11491|\n",
      "|          37|          36|11487|\n",
      "|          61|         188|11462|\n",
      "|          61|         225|11342|\n",
      "|         188|         188|11308|\n",
      "+------------+------------+-----+\n",
      "only showing top 20 rows\n",
      "\n"
     ]
    },
    {
     "name": "stderr",
     "output_type": "stream",
     "text": [
      "\r",
      "[Stage 45:============================================>         (163 + 4) / 200]\r",
      "\r",
      "                                                                                \r"
     ]
    }
   ],
   "source": [
    "df.groupBy('PULocationID', 'DOLocationID').count().orderBy('count', ascending = False).show()   "
   ]
  },
  {
   "cell_type": "code",
   "execution_count": 57,
   "id": "9b4c0443",
   "metadata": {},
   "outputs": [],
   "source": [
    "df.registerTempTable('notjoin')"
   ]
  },
  {
   "cell_type": "code",
   "execution_count": 59,
   "id": "59a13525",
   "metadata": {},
   "outputs": [
    {
     "name": "stderr",
     "output_type": "stream",
     "text": [
      "[Stage 55:====================================================> (193 + 4) / 200]\r"
     ]
    },
    {
     "name": "stdout",
     "output_type": "stream",
     "text": [
      "+-------+-----+\n",
      "|   conc|  cnt|\n",
      "+-------+-----+\n",
      "|  76/76|45041|\n",
      "|  26/26|37329|\n",
      "|  39/39|28026|\n",
      "|  61/61|25976|\n",
      "|  14/14|17934|\n",
      "|    7/7|14688|\n",
      "|129/129|14688|\n",
      "|  42/42|14481|\n",
      "|  37/37|14424|\n",
      "|  89/89|13976|\n",
      "|216/216|13716|\n",
      "|  35/35|12829|\n",
      "|132/265|12542|\n",
      "| 188/61|11814|\n",
      "|  95/95|11548|\n",
      "|  36/37|11491|\n",
      "|  37/36|11487|\n",
      "| 61/188|11462|\n",
      "| 61/225|11342|\n",
      "|188/188|11308|\n",
      "+-------+-----+\n",
      "only showing top 20 rows\n",
      "\n"
     ]
    },
    {
     "name": "stderr",
     "output_type": "stream",
     "text": [
      "\r",
      "                                                                                \r"
     ]
    }
   ],
   "source": [
    "spark.sql(\"\"\"\n",
    "SELECT \n",
    "concat(PULocationID, '/',DOLocationID) AS conc,\n",
    "count(*) AS cnt\n",
    "FROM notjoin\n",
    "GROUP BY  conc\n",
    "ORDER BY cnt DESC\n",
    "\"\"\").show()"
   ]
  },
  {
   "cell_type": "code",
   "execution_count": 60,
   "id": "a7ec6e4d",
   "metadata": {},
   "outputs": [],
   "source": [
    "df_3 = spark.sql(\"\"\"\n",
    "SELECT \n",
    "t.PULocationID, t.DOLocationID, p_z.Zone AS puZone, d_z.Zone AS doZone\n",
    "FROM notjoin AS t\n",
    "LEFT JOIN zones AS p_z ON p_z.LocationID = t.PULocationID\n",
    "LEFT JOIN zones AS d_z ON p_z.LocationID = t.DOLocationID\n",
    "\"\"\")"
   ]
  },
  {
   "cell_type": "code",
   "execution_count": 61,
   "id": "48eb9981",
   "metadata": {},
   "outputs": [],
   "source": [
    "df_3.registerTempTable('result_df_3')"
   ]
  },
  {
   "cell_type": "code",
   "execution_count": 62,
   "id": "e2197c88",
   "metadata": {},
   "outputs": [
    {
     "name": "stderr",
     "output_type": "stream",
     "text": [
      "[Stage 58:=============================>                            (2 + 2) / 4]\r"
     ]
    },
    {
     "name": "stdout",
     "output_type": "stream",
     "text": [
      "+-------------------+--------------------+------+\n",
      "|             puZone|              doZone|   cnt|\n",
      "+-------------------+--------------------+------+\n",
      "|      East New York|Governor's Island...|135123|\n",
      "|       Borough Park|Governor's Island...|111987|\n",
      "|      East New York|              Corona| 90082|\n",
      "|           Canarsie|Governor's Island...| 84078|\n",
      "|Crown Heights North|Governor's Island...| 77928|\n",
      "|       Borough Park|              Corona| 74658|\n",
      "|           Canarsie|              Corona| 56052|\n",
      "|          Bay Ridge|Governor's Island...| 53802|\n",
      "|Crown Heights North|              Corona| 51952|\n",
      "|      East New York|            Elmhurst| 45041|\n",
      "|      East New York|     Pelham Bay Park| 45041|\n",
      "|      East New York|            Gramercy| 45041|\n",
      "|      East New York|       East New York| 45041|\n",
      "|      East New York|Forest Park/Highl...| 45041|\n",
      "|      East New York|          Mount Hope| 45041|\n",
      "|      East New York|Springfield Garde...| 45041|\n",
      "|      East New York|        East Chelsea| 45041|\n",
      "|      East New York|Greenwich Village...| 45041|\n",
      "|      East New York|            Glendale| 45041|\n",
      "|      East New York|Allerton/Pelham G...| 45041|\n",
      "+-------------------+--------------------+------+\n",
      "only showing top 20 rows\n",
      "\n"
     ]
    },
    {
     "name": "stderr",
     "output_type": "stream",
     "text": [
      "\r",
      "[Stage 59:============================================>         (164 + 5) / 200]\r",
      "\r",
      "                                                                                \r"
     ]
    }
   ],
   "source": [
    "spark.sql(\"\"\"\n",
    "SELECT \n",
    "puZone,  doZone,\n",
    "count(*) AS cnt\n",
    "FROM result \n",
    "GROUP BY  puZone,  doZone\n",
    "ORDER BY cnt DESC\n",
    "\"\"\").show()"
   ]
  },
  {
   "cell_type": "code",
   "execution_count": 22,
   "id": "2b5f1bfa",
   "metadata": {},
   "outputs": [],
   "source": [
    "df_result = df.join(df_z, df.PULocationID == df_z.LocationID)"
   ]
  },
  {
   "cell_type": "code",
   "execution_count": 23,
   "id": "4ea3b92f",
   "metadata": {},
   "outputs": [
    {
     "name": "stdout",
     "output_type": "stream",
     "text": [
      "+-----------------+--------------------+-------------------+-------------------+------------+------------+-------+----------+---------+--------------------+------------+\n",
      "|hvfhs_license_num|dispatching_base_num|    pickup_datetime|   dropoff_datetime|PULocationID|DOLocationID|SR_Flag|LocationID|  Borough|                Zone|service_zone|\n",
      "+-----------------+--------------------+-------------------+-------------------+------------+------------+-------+----------+---------+--------------------+------------+\n",
      "|           HV0003|              B02887|2021-02-06 01:18:35|2021-02-06 01:40:34|         163|         235|   null|       163|Manhattan|       Midtown North| Yellow Zone|\n",
      "|           HV0005|              B02510|2021-02-05 07:13:06|2021-02-05 07:31:56|         225|         181|   null|       225| Brooklyn|  Stuyvesant Heights|   Boro Zone|\n",
      "|           HV0003|              B02869|2021-02-04 16:56:52|2021-02-04 17:21:36|         260|          95|   null|       260|   Queens|            Woodside|   Boro Zone|\n",
      "|           HV0003|              B02871|2021-02-03 18:34:17|2021-02-03 18:57:12|         235|          60|   null|       235|    Bronx|University Height...|   Boro Zone|\n",
      "|           HV0003|              B02869|2021-02-04 07:25:09|2021-02-04 07:30:34|          55|          55|   null|        55| Brooklyn|        Coney Island|   Boro Zone|\n",
      "|           HV0003|              B02836|2021-02-04 23:15:27|2021-02-04 23:34:29|          74|          81|   null|        74|Manhattan|   East Harlem North|   Boro Zone|\n",
      "|           HV0003|              B02882|2021-02-05 07:45:49|2021-02-05 08:05:03|         239|         231|   null|       239|Manhattan|Upper West Side S...| Yellow Zone|\n",
      "|           HV0003|              B02887|2021-02-03 17:33:59|2021-02-03 17:47:14|          95|         196|   null|        95|   Queens|        Forest Hills|   Boro Zone|\n",
      "|           HV0003|              B02877|2021-02-03 09:33:06|2021-02-03 09:45:59|         241|         265|   null|       241|    Bronx|Van Cortlandt Vil...|   Boro Zone|\n",
      "|           HV0003|              B02872|2021-02-02 12:58:46|2021-02-02 13:06:20|          90|         137|   null|        90|Manhattan|            Flatiron| Yellow Zone|\n",
      "|           HV0003|              B02764|2021-02-05 22:25:20|2021-02-05 22:28:27|           7|           7|   null|         7|   Queens|             Astoria|   Boro Zone|\n",
      "|           HV0003|              B02882|2021-02-04 19:57:44|2021-02-04 20:05:24|         231|         246|   null|       231|Manhattan|TriBeCa/Civic Center| Yellow Zone|\n",
      "|           HV0003|              B02764|2021-02-02 08:43:57|2021-02-02 08:53:46|         108|          29|   null|       108| Brooklyn|           Gravesend|   Boro Zone|\n",
      "|           HV0003|              B02866|2021-02-04 05:51:50|2021-02-04 06:21:25|          11|         112|   null|        11| Brooklyn|          Bath Beach|   Boro Zone|\n",
      "|           HV0003|              B02882|2021-02-05 16:13:02|2021-02-05 16:27:48|         229|         234|   null|       229|Manhattan|Sutton Place/Turt...| Yellow Zone|\n",
      "|           HV0005|              B02510|2021-02-04 17:15:28|2021-02-04 17:24:46|          10|         218|   null|        10|   Queens|        Baisley Park|   Boro Zone|\n",
      "|           HV0003|              B02617|2021-02-04 09:59:58|2021-02-04 10:29:13|          49|         232|   null|        49| Brooklyn|        Clinton Hill|   Boro Zone|\n",
      "|           HV0005|              B02510|2021-02-05 23:34:27|2021-02-05 23:51:05|         125|          17|   null|       125|Manhattan|           Hudson Sq| Yellow Zone|\n",
      "|           HV0003|              B02875|2021-02-05 20:52:58|2021-02-05 21:19:59|          47|          68|   null|        47|    Bronx|  Claremont/Bathgate|   Boro Zone|\n",
      "|           HV0003|              B02875|2021-02-04 18:11:00|2021-02-04 18:37:24|          41|         223|   null|        41|Manhattan|      Central Harlem|   Boro Zone|\n",
      "+-----------------+--------------------+-------------------+-------------------+------------+------------+-------+----------+---------+--------------------+------------+\n",
      "only showing top 20 rows\n",
      "\n"
     ]
    }
   ],
   "source": [
    "df_result.show()"
   ]
  },
  {
   "cell_type": "code",
   "execution_count": 50,
   "id": "136ea092",
   "metadata": {},
   "outputs": [],
   "source": [
    "df_result.registerTempTable('nojoin')"
   ]
  },
  {
   "cell_type": "code",
   "execution_count": 56,
   "id": "a2846aa9",
   "metadata": {},
   "outputs": [
    {
     "name": "stderr",
     "output_type": "stream",
     "text": [
      "[Stage 48:=============================>                            (2 + 2) / 4]\r"
     ]
    },
    {
     "name": "stdout",
     "output_type": "stream",
     "text": [
      "+-------+--------+\n",
      "|   conc|     cnt|\n",
      "+-------+--------+\n",
      "|  76/76|11935865|\n",
      "|  26/26| 9892185|\n",
      "|  39/39| 7426890|\n",
      "|  61/61| 6883640|\n",
      "|  14/14| 4752510|\n",
      "|    7/7| 3892320|\n",
      "|129/129| 3892320|\n",
      "|  42/42| 3837465|\n",
      "|  37/37| 3822360|\n",
      "|  89/89| 3703640|\n",
      "|216/216| 3634740|\n",
      "|  35/35| 3399685|\n",
      "|  95/95| 3060220|\n",
      "|188/188| 2996620|\n",
      "|  17/17| 2920565|\n",
      "|225/225| 2828875|\n",
      "|  82/82| 2810060|\n",
      "|213/213| 2787535|\n",
      "|244/244| 2693725|\n",
      "|181/181| 2589315|\n",
      "+-------+--------+\n",
      "only showing top 20 rows\n",
      "\n"
     ]
    },
    {
     "name": "stderr",
     "output_type": "stream",
     "text": [
      "\r",
      "                                                                                \r"
     ]
    }
   ],
   "source": [
    "spark.sql(\"\"\"\n",
    "SELECT \n",
    "concat(PULocationID, '/',DOLocationID) AS conc,\n",
    "count(*) AS cnt\n",
    "FROM result \n",
    "GROUP BY  conc\n",
    "ORDER BY cnt DESC\n",
    "\"\"\").show()"
   ]
  },
  {
   "cell_type": "code",
   "execution_count": 52,
   "id": "dd589cbc",
   "metadata": {},
   "outputs": [],
   "source": [
    "df_res_nojoin = spark.sql(\"\"\"\n",
    "SELECT \n",
    "PULocationID, DOLocationID,\n",
    "count(*) AS cnt\n",
    "FROM result \n",
    "GROUP BY  PULocationID, DOLocationID\n",
    "ORDER BY cnt DESC\n",
    "\"\"\")"
   ]
  },
  {
   "cell_type": "code",
   "execution_count": 53,
   "id": "8145ed12",
   "metadata": {},
   "outputs": [
    {
     "name": "stderr",
     "output_type": "stream",
     "text": [
      "[Stage 40:==============>                                           (1 + 3) / 4]\r"
     ]
    },
    {
     "name": "stdout",
     "output_type": "stream",
     "text": [
      "+------------+------------+--------+\n",
      "|PULocationID|DOLocationID|     cnt|\n",
      "+------------+------------+--------+\n",
      "|          76|          76|11935865|\n",
      "|          26|          26| 9892185|\n",
      "|          39|          39| 7426890|\n",
      "|          61|          61| 6883640|\n",
      "|          14|          14| 4752510|\n",
      "|           7|           7| 3892320|\n",
      "|         129|         129| 3892320|\n",
      "|          42|          42| 3837465|\n",
      "|          37|          37| 3822360|\n",
      "|          89|          89| 3703640|\n",
      "|         216|         216| 3634740|\n",
      "|          35|          35| 3399685|\n",
      "|          95|          95| 3060220|\n",
      "|         188|         188| 2996620|\n",
      "|          17|          17| 2920565|\n",
      "|         225|         225| 2828875|\n",
      "|          82|          82| 2810060|\n",
      "|         213|         213| 2787535|\n",
      "|         244|         244| 2693725|\n",
      "|         181|         181| 2589315|\n",
      "+------------+------------+--------+\n",
      "only showing top 20 rows\n",
      "\n"
     ]
    },
    {
     "name": "stderr",
     "output_type": "stream",
     "text": [
      "\r",
      "[Stage 41:==============================================>       (171 + 4) / 200]\r",
      "\r",
      "                                                                                \r"
     ]
    }
   ],
   "source": [
    "df_res_nojoin.show()"
   ]
  },
  {
   "cell_type": "code",
   "execution_count": null,
   "id": "99afb0c1",
   "metadata": {},
   "outputs": [],
   "source": []
  },
  {
   "cell_type": "code",
   "execution_count": 24,
   "id": "6fd14720",
   "metadata": {},
   "outputs": [],
   "source": [
    "df_result = df_result.join(df_z, df_result.DOLocationID == df_z.LocationID)"
   ]
  },
  {
   "cell_type": "code",
   "execution_count": 25,
   "id": "044cc43f",
   "metadata": {},
   "outputs": [],
   "source": [
    "df.registerTempTable('joined')"
   ]
  },
  {
   "cell_type": "code",
   "execution_count": 19,
   "id": "350917e2",
   "metadata": {},
   "outputs": [],
   "source": [
    "df_z.registerTempTable('zones')"
   ]
  },
  {
   "cell_type": "code",
   "execution_count": 54,
   "id": "eb119884",
   "metadata": {},
   "outputs": [
    {
     "name": "stdout",
     "output_type": "stream",
     "text": [
      "+----------+--------+-------------+------------+\n",
      "|LocationID| Borough|         Zone|service_zone|\n",
      "+----------+--------+-------------+------------+\n",
      "|        76|Brooklyn|East New York|   Boro Zone|\n",
      "+----------+--------+-------------+------------+\n",
      "\n"
     ]
    }
   ],
   "source": [
    "spark.sql(\"\"\"\n",
    "SELECT \n",
    "*\n",
    "FROM zones\n",
    "WHERE LocationID=76\n",
    "\"\"\").show()"
   ]
  },
  {
   "cell_type": "code",
   "execution_count": 26,
   "id": "f6346acf",
   "metadata": {},
   "outputs": [
    {
     "name": "stdout",
     "output_type": "stream",
     "text": [
      "+----------+-------------+--------------------+------------+\n",
      "|LocationID|      Borough|                Zone|service_zone|\n",
      "+----------+-------------+--------------------+------------+\n",
      "|       127|    Manhattan|              Inwood|   Boro Zone|\n",
      "|       206|Staten Island|Saint George/New ...|   Boro Zone|\n",
      "|        62|     Brooklyn| Crown Heights South|   Boro Zone|\n",
      "|       186|    Manhattan|Penn Station/Madi...| Yellow Zone|\n",
      "|       244|    Manhattan|Washington Height...|   Boro Zone|\n",
      "|       110|Staten Island|    Great Kills Park|   Boro Zone|\n",
      "|       122|       Queens|              Hollis|   Boro Zone|\n",
      "|         6|Staten Island|Arrochar/Fort Wad...|   Boro Zone|\n",
      "|        16|       Queens|             Bayside|   Boro Zone|\n",
      "|       238|    Manhattan|Upper West Side N...| Yellow Zone|\n",
      "|        77|     Brooklyn|East New York/Pen...|   Boro Zone|\n",
      "|       131|       Queens|     Jamaica Estates|   Boro Zone|\n",
      "|         8|       Queens|        Astoria Park|   Boro Zone|\n",
      "|       190|     Brooklyn|       Prospect Park|   Boro Zone|\n",
      "|        21|     Brooklyn|    Bensonhurst East|   Boro Zone|\n",
      "|       207|       Queens|Saint Michaels Ce...|   Boro Zone|\n",
      "|       141|    Manhattan|     Lenox Hill West| Yellow Zone|\n",
      "|         3|        Bronx|Allerton/Pelham G...|   Boro Zone|\n",
      "|       129|       Queens|     Jackson Heights|   Boro Zone|\n",
      "|       157|       Queens|             Maspeth|   Boro Zone|\n",
      "+----------+-------------+--------------------+------------+\n",
      "only showing top 20 rows\n",
      "\n"
     ]
    }
   ],
   "source": [
    "df_result=spark.sql(\"\"\"\n",
    "SELECT \n",
    "*\n",
    "FROM zones\n",
    "\n",
    "\"\"\").show()"
   ]
  },
  {
   "cell_type": "code",
   "execution_count": 27,
   "id": "465803ed",
   "metadata": {},
   "outputs": [],
   "source": [
    "# df_result = spark.sql(\"\"\"\n",
    "# SELECT \n",
    "# t.PULocationID, t.DOLocationID,  p_z.Borough AS puBorough, p_z.Zone AS puZone, d_z.Borough AS doBorough , d_z.Zone AS doZone\n",
    "# FROM joined AS t\n",
    "# INNER JOIN zones AS p_z ON p_z.LocationID = t.PULocationID\n",
    "#  JOIN zones AS d_z ON p_z.LocationID = t.DOLocationID\n",
    "# \"\"\")"
   ]
  },
  {
   "cell_type": "code",
   "execution_count": 31,
   "id": "d922b439",
   "metadata": {},
   "outputs": [],
   "source": [
    "df_result = spark.sql(\"\"\"\n",
    "SELECT \n",
    "t.PULocationID, t.DOLocationID, p_z.Zone AS puZone, d_z.Zone AS doZone\n",
    "FROM joined AS t\n",
    "INNER JOIN zones AS p_z ON p_z.LocationID = t.PULocationID\n",
    "JOIN zones AS d_z ON p_z.LocationID = t.DOLocationID\n",
    "\"\"\")"
   ]
  },
  {
   "cell_type": "code",
   "execution_count": 32,
   "id": "a937500f",
   "metadata": {},
   "outputs": [],
   "source": [
    "df_result.registerTempTable('result')"
   ]
  },
  {
   "cell_type": "code",
   "execution_count": 33,
   "id": "83f1e9dd",
   "metadata": {},
   "outputs": [],
   "source": [
    "df_res2 = spark.sql(\"\"\"\n",
    "SELECT \n",
    "puZone, doZone,\n",
    "count(*) AS cnt\n",
    "FROM result \n",
    "GROUP BY  puZone, doZone\n",
    "ORDER BY cnt DESC\n",
    "\"\"\")"
   ]
  },
  {
   "cell_type": "code",
   "execution_count": 34,
   "id": "c4898093",
   "metadata": {},
   "outputs": [
    {
     "name": "stderr",
     "output_type": "stream",
     "text": [
      "[Stage 19:=========================================>            (153 + 5) / 200]\r"
     ]
    },
    {
     "name": "stdout",
     "output_type": "stream",
     "text": [
      "+-------------------+---------------------------------------------+------+\n",
      "|puZone             |doZone                                       |cnt   |\n",
      "+-------------------+---------------------------------------------+------+\n",
      "|East New York      |Governor's Island/Ellis Island/Liberty Island|135123|\n",
      "|Borough Park       |Governor's Island/Ellis Island/Liberty Island|111987|\n",
      "|East New York      |Corona                                       |90082 |\n",
      "|Canarsie           |Governor's Island/Ellis Island/Liberty Island|84078 |\n",
      "|Crown Heights North|Governor's Island/Ellis Island/Liberty Island|77928 |\n",
      "|Borough Park       |Corona                                       |74658 |\n",
      "|Canarsie           |Corona                                       |56052 |\n",
      "|Bay Ridge          |Governor's Island/Ellis Island/Liberty Island|53802 |\n",
      "|Crown Heights North|Corona                                       |51952 |\n",
      "|East New York      |Elmhurst                                     |45041 |\n",
      "|East New York      |Springfield Gardens South                    |45041 |\n",
      "|East New York      |Gramercy                                     |45041 |\n",
      "|East New York      |East Chelsea                                 |45041 |\n",
      "|East New York      |East New York                                |45041 |\n",
      "|East New York      |Glendale                                     |45041 |\n",
      "|East New York      |Allerton/Pelham Gardens                      |45041 |\n",
      "|East New York      |Greenwich Village North                      |45041 |\n",
      "|East New York      |Starrett City                                |45041 |\n",
      "|East New York      |Forest Park/Highland Park                    |45041 |\n",
      "|East New York      |Mount Hope                                   |45041 |\n",
      "+-------------------+---------------------------------------------+------+\n",
      "only showing top 20 rows\n",
      "\n"
     ]
    },
    {
     "name": "stderr",
     "output_type": "stream",
     "text": [
      "\r",
      "[Stage 19:====================================================> (196 + 4) / 200]\r",
      "\r",
      "                                                                                \r"
     ]
    }
   ],
   "source": [
    "df_res2.show(truncate=False)"
   ]
  },
  {
   "cell_type": "code",
   "execution_count": 42,
   "id": "dc32f57a",
   "metadata": {},
   "outputs": [],
   "source": [
    "df_1step = df.join(df_z, df.PULocationID == df_z.LocationID,\"left\").withColumnRenamed(\"Zone\",\"PUZone\")"
   ]
  },
  {
   "cell_type": "code",
   "execution_count": 43,
   "id": "ccebc791",
   "metadata": {},
   "outputs": [
    {
     "name": "stdout",
     "output_type": "stream",
     "text": [
      "+-----------------+--------------------+-------------------+-------------------+------------+------------+-------+----------+---------+--------------------+------------+\n",
      "|hvfhs_license_num|dispatching_base_num|    pickup_datetime|   dropoff_datetime|PULocationID|DOLocationID|SR_Flag|LocationID|  Borough|              PUZone|service_zone|\n",
      "+-----------------+--------------------+-------------------+-------------------+------------+------------+-------+----------+---------+--------------------+------------+\n",
      "|           HV0003|              B02887|2021-02-06 01:18:35|2021-02-06 01:40:34|         163|         235|   null|       163|Manhattan|       Midtown North| Yellow Zone|\n",
      "|           HV0005|              B02510|2021-02-05 07:13:06|2021-02-05 07:31:56|         225|         181|   null|       225| Brooklyn|  Stuyvesant Heights|   Boro Zone|\n",
      "|           HV0003|              B02869|2021-02-04 16:56:52|2021-02-04 17:21:36|         260|          95|   null|       260|   Queens|            Woodside|   Boro Zone|\n",
      "|           HV0003|              B02871|2021-02-03 18:34:17|2021-02-03 18:57:12|         235|          60|   null|       235|    Bronx|University Height...|   Boro Zone|\n",
      "|           HV0003|              B02869|2021-02-04 07:25:09|2021-02-04 07:30:34|          55|          55|   null|        55| Brooklyn|        Coney Island|   Boro Zone|\n",
      "|           HV0003|              B02836|2021-02-04 23:15:27|2021-02-04 23:34:29|          74|          81|   null|        74|Manhattan|   East Harlem North|   Boro Zone|\n",
      "|           HV0003|              B02882|2021-02-05 07:45:49|2021-02-05 08:05:03|         239|         231|   null|       239|Manhattan|Upper West Side S...| Yellow Zone|\n",
      "|           HV0003|              B02887|2021-02-03 17:33:59|2021-02-03 17:47:14|          95|         196|   null|        95|   Queens|        Forest Hills|   Boro Zone|\n",
      "|           HV0003|              B02877|2021-02-03 09:33:06|2021-02-03 09:45:59|         241|         265|   null|       241|    Bronx|Van Cortlandt Vil...|   Boro Zone|\n",
      "|           HV0003|              B02872|2021-02-02 12:58:46|2021-02-02 13:06:20|          90|         137|   null|        90|Manhattan|            Flatiron| Yellow Zone|\n",
      "|           HV0003|              B02764|2021-02-05 22:25:20|2021-02-05 22:28:27|           7|           7|   null|         7|   Queens|             Astoria|   Boro Zone|\n",
      "|           HV0003|              B02882|2021-02-04 19:57:44|2021-02-04 20:05:24|         231|         246|   null|       231|Manhattan|TriBeCa/Civic Center| Yellow Zone|\n",
      "|           HV0003|              B02764|2021-02-02 08:43:57|2021-02-02 08:53:46|         108|          29|   null|       108| Brooklyn|           Gravesend|   Boro Zone|\n",
      "|           HV0003|              B02866|2021-02-04 05:51:50|2021-02-04 06:21:25|          11|         112|   null|        11| Brooklyn|          Bath Beach|   Boro Zone|\n",
      "|           HV0003|              B02882|2021-02-05 16:13:02|2021-02-05 16:27:48|         229|         234|   null|       229|Manhattan|Sutton Place/Turt...| Yellow Zone|\n",
      "|           HV0005|              B02510|2021-02-04 17:15:28|2021-02-04 17:24:46|          10|         218|   null|        10|   Queens|        Baisley Park|   Boro Zone|\n",
      "|           HV0003|              B02617|2021-02-04 09:59:58|2021-02-04 10:29:13|          49|         232|   null|        49| Brooklyn|        Clinton Hill|   Boro Zone|\n",
      "|           HV0005|              B02510|2021-02-05 23:34:27|2021-02-05 23:51:05|         125|          17|   null|       125|Manhattan|           Hudson Sq| Yellow Zone|\n",
      "|           HV0003|              B02875|2021-02-05 20:52:58|2021-02-05 21:19:59|          47|          68|   null|        47|    Bronx|  Claremont/Bathgate|   Boro Zone|\n",
      "|           HV0003|              B02875|2021-02-04 18:11:00|2021-02-04 18:37:24|          41|         223|   null|        41|Manhattan|      Central Harlem|   Boro Zone|\n",
      "+-----------------+--------------------+-------------------+-------------------+------------+------------+-------+----------+---------+--------------------+------------+\n",
      "only showing top 20 rows\n",
      "\n"
     ]
    }
   ],
   "source": [
    "df_1step.show()"
   ]
  },
  {
   "cell_type": "code",
   "execution_count": 45,
   "id": "b2b5eef1",
   "metadata": {},
   "outputs": [],
   "source": [
    "df_2step = df_1step.join(df_z, df.DOLocationID == df_z.LocationID,\"left\").withColumnRenamed(\"Zone\",\"DOZone\")"
   ]
  },
  {
   "cell_type": "code",
   "execution_count": 46,
   "id": "37cdd7e5",
   "metadata": {},
   "outputs": [
    {
     "name": "stdout",
     "output_type": "stream",
     "text": [
      "+-----------------+--------------------+-------------------+-------------------+------------+------------+-------+----------+---------+--------------------+------------+----------+-------------+--------------------+------------+\n",
      "|hvfhs_license_num|dispatching_base_num|    pickup_datetime|   dropoff_datetime|PULocationID|DOLocationID|SR_Flag|LocationID|  Borough|              PUZone|service_zone|LocationID|      Borough|              DOZone|service_zone|\n",
      "+-----------------+--------------------+-------------------+-------------------+------------+------------+-------+----------+---------+--------------------+------------+----------+-------------+--------------------+------------+\n",
      "|           HV0003|              B02887|2021-02-06 01:18:35|2021-02-06 01:40:34|         163|         235|   null|       163|Manhattan|       Midtown North| Yellow Zone|      null|         null|                null|        null|\n",
      "|           HV0005|              B02510|2021-02-05 07:13:06|2021-02-05 07:31:56|         225|         181|   null|       225| Brooklyn|  Stuyvesant Heights|   Boro Zone|      null|         null|                null|        null|\n",
      "|           HV0003|              B02869|2021-02-04 16:56:52|2021-02-04 17:21:36|         260|          95|   null|       260|   Queens|            Woodside|   Boro Zone|      null|         null|                null|        null|\n",
      "|           HV0003|              B02871|2021-02-03 18:34:17|2021-02-03 18:57:12|         235|          60|   null|       235|    Bronx|University Height...|   Boro Zone|      null|         null|                null|        null|\n",
      "|           HV0003|              B02869|2021-02-04 07:25:09|2021-02-04 07:30:34|          55|          55|   null|        55| Brooklyn|        Coney Island|   Boro Zone|       127|    Manhattan|              Inwood|   Boro Zone|\n",
      "|           HV0003|              B02869|2021-02-04 07:25:09|2021-02-04 07:30:34|          55|          55|   null|        55| Brooklyn|        Coney Island|   Boro Zone|       206|Staten Island|Saint George/New ...|   Boro Zone|\n",
      "|           HV0003|              B02869|2021-02-04 07:25:09|2021-02-04 07:30:34|          55|          55|   null|        55| Brooklyn|        Coney Island|   Boro Zone|        62|     Brooklyn| Crown Heights South|   Boro Zone|\n",
      "|           HV0003|              B02869|2021-02-04 07:25:09|2021-02-04 07:30:34|          55|          55|   null|        55| Brooklyn|        Coney Island|   Boro Zone|       186|    Manhattan|Penn Station/Madi...| Yellow Zone|\n",
      "|           HV0003|              B02869|2021-02-04 07:25:09|2021-02-04 07:30:34|          55|          55|   null|        55| Brooklyn|        Coney Island|   Boro Zone|       244|    Manhattan|Washington Height...|   Boro Zone|\n",
      "|           HV0003|              B02869|2021-02-04 07:25:09|2021-02-04 07:30:34|          55|          55|   null|        55| Brooklyn|        Coney Island|   Boro Zone|       110|Staten Island|    Great Kills Park|   Boro Zone|\n",
      "|           HV0003|              B02869|2021-02-04 07:25:09|2021-02-04 07:30:34|          55|          55|   null|        55| Brooklyn|        Coney Island|   Boro Zone|       122|       Queens|              Hollis|   Boro Zone|\n",
      "|           HV0003|              B02869|2021-02-04 07:25:09|2021-02-04 07:30:34|          55|          55|   null|        55| Brooklyn|        Coney Island|   Boro Zone|         6|Staten Island|Arrochar/Fort Wad...|   Boro Zone|\n",
      "|           HV0003|              B02869|2021-02-04 07:25:09|2021-02-04 07:30:34|          55|          55|   null|        55| Brooklyn|        Coney Island|   Boro Zone|        16|       Queens|             Bayside|   Boro Zone|\n",
      "|           HV0003|              B02869|2021-02-04 07:25:09|2021-02-04 07:30:34|          55|          55|   null|        55| Brooklyn|        Coney Island|   Boro Zone|       238|    Manhattan|Upper West Side N...| Yellow Zone|\n",
      "|           HV0003|              B02869|2021-02-04 07:25:09|2021-02-04 07:30:34|          55|          55|   null|        55| Brooklyn|        Coney Island|   Boro Zone|        77|     Brooklyn|East New York/Pen...|   Boro Zone|\n",
      "|           HV0003|              B02869|2021-02-04 07:25:09|2021-02-04 07:30:34|          55|          55|   null|        55| Brooklyn|        Coney Island|   Boro Zone|       131|       Queens|     Jamaica Estates|   Boro Zone|\n",
      "|           HV0003|              B02869|2021-02-04 07:25:09|2021-02-04 07:30:34|          55|          55|   null|        55| Brooklyn|        Coney Island|   Boro Zone|         8|       Queens|        Astoria Park|   Boro Zone|\n",
      "|           HV0003|              B02869|2021-02-04 07:25:09|2021-02-04 07:30:34|          55|          55|   null|        55| Brooklyn|        Coney Island|   Boro Zone|       190|     Brooklyn|       Prospect Park|   Boro Zone|\n",
      "|           HV0003|              B02869|2021-02-04 07:25:09|2021-02-04 07:30:34|          55|          55|   null|        55| Brooklyn|        Coney Island|   Boro Zone|        21|     Brooklyn|    Bensonhurst East|   Boro Zone|\n",
      "|           HV0003|              B02869|2021-02-04 07:25:09|2021-02-04 07:30:34|          55|          55|   null|        55| Brooklyn|        Coney Island|   Boro Zone|       207|       Queens|Saint Michaels Ce...|   Boro Zone|\n",
      "+-----------------+--------------------+-------------------+-------------------+------------+------------+-------+----------+---------+--------------------+------------+----------+-------------+--------------------+------------+\n",
      "only showing top 20 rows\n",
      "\n"
     ]
    }
   ],
   "source": [
    "df_2step.show()"
   ]
  },
  {
   "cell_type": "code",
   "execution_count": 47,
   "id": "8b29f764",
   "metadata": {},
   "outputs": [],
   "source": [
    "df_2step.registerTempTable('df_2')"
   ]
  },
  {
   "cell_type": "code",
   "execution_count": 48,
   "id": "cb3dce4e",
   "metadata": {},
   "outputs": [],
   "source": [
    "df_res_2step = spark.sql(\"\"\"\n",
    "SELECT \n",
    "PUZone, DOZone,\n",
    "count(*) AS cnt\n",
    "FROM df_2\n",
    "GROUP BY  PUZone, DOZone\n",
    "ORDER BY cnt DESC\n",
    "\"\"\")"
   ]
  },
  {
   "cell_type": "code",
   "execution_count": 49,
   "id": "35dd3708",
   "metadata": {},
   "outputs": [
    {
     "name": "stderr",
     "output_type": "stream",
     "text": [
      "[Stage 37:===================================================>  (190 + 4) / 200]\r"
     ]
    },
    {
     "name": "stdout",
     "output_type": "stream",
     "text": [
      "+--------------------+--------------------+------+\n",
      "|              PUZone|              DOZone|   cnt|\n",
      "+--------------------+--------------------+------+\n",
      "| Crown Heights North|                null|177801|\n",
      "|       East New York|Governor's Island...|135123|\n",
      "|        East Village|                null|133580|\n",
      "|      Bushwick South|                null|126212|\n",
      "|Central Harlem North|                null|122765|\n",
      "|       East New York|                null|121918|\n",
      "|             Bedford|                null|114373|\n",
      "|        Borough Park|Governor's Island...|111987|\n",
      "|  Stuyvesant Heights|                null|109351|\n",
      "|Prospect-Lefferts...|                null|106426|\n",
      "|Washington Height...|                null|105425|\n",
      "|TriBeCa/Civic Center|                null|104517|\n",
      "|Flatbush/Ditmas Park|                null|103116|\n",
      "|             Astoria|                null| 96099|\n",
      "|            Union Sq|                null| 94946|\n",
      "|   East Harlem North|                null| 94867|\n",
      "|          Park Slope|                null| 93496|\n",
      "|         Murray Hill|                null| 92575|\n",
      "|        West Village|                null| 91789|\n",
      "|         Brownsville|                null| 90230|\n",
      "+--------------------+--------------------+------+\n",
      "only showing top 20 rows\n",
      "\n"
     ]
    },
    {
     "name": "stderr",
     "output_type": "stream",
     "text": [
      "\r",
      "                                                                                \r"
     ]
    }
   ],
   "source": [
    "df_res_2step.show()"
   ]
  },
  {
   "cell_type": "code",
   "execution_count": null,
   "id": "9c092ccb",
   "metadata": {},
   "outputs": [],
   "source": []
  }
 ],
 "metadata": {
  "kernelspec": {
   "display_name": "Python 3 (ipykernel)",
   "language": "python",
   "name": "python3"
  },
  "language_info": {
   "codemirror_mode": {
    "name": "ipython",
    "version": 3
   },
   "file_extension": ".py",
   "mimetype": "text/x-python",
   "name": "python",
   "nbconvert_exporter": "python",
   "pygments_lexer": "ipython3",
   "version": "3.9.7"
  }
 },
 "nbformat": 4,
 "nbformat_minor": 5
}
